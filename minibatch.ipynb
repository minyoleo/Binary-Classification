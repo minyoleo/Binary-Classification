{
 "cells": [
  {
   "cell_type": "code",
   "execution_count": 1,
   "metadata": {},
   "outputs": [],
   "source": [
    "import numpy as np\n",
    "import pandas as pd\n",
    "from mpl_toolkits.mplot3d import Axes3D\n",
    "from matplotlib import cm\n",
    "import matplotlib.pyplot as plt\n",
    "%matplotlib inline\n",
    "from helper import * \n",
    "import random"
   ]
  },
  {
   "cell_type": "code",
   "execution_count": 2,
   "metadata": {},
   "outputs": [],
   "source": [
    "train_x_ori = pd.read_csv('X_train.csv').values\n",
    "train_y = pd.read_csv('Y_train.csv').T.values\n",
    "test_x_ori = pd.read_csv('X_test.csv').values"
   ]
  },
  {
   "cell_type": "code",
   "execution_count": 3,
   "metadata": {},
   "outputs": [
    {
     "name": "stdout",
     "output_type": "stream",
     "text": [
      "Number of training examples: num_train = 32561\n",
      "Number of testing examples: num_test = 16281\n",
      "train_x shape: (32561, 106)\n",
      "train_y shape: (1, 32561)\n",
      "test_x shape: (16281, 106)\n"
     ]
    }
   ],
   "source": [
    "num_train = len(train_x_ori)\n",
    "num_test = len(test_x_ori)\n",
    "\n",
    "print(\"Number of training examples: num_train = \" + str(num_train))\n",
    "print(\"Number of testing examples: num_test = \" + str(num_test))\n",
    "print(\"train_x shape: \" + str(train_x_ori.shape))\n",
    "print(\"train_y shape: \" + str(train_y.shape))\n",
    "print(\"test_x shape: \" + str(test_x_ori.shape))"
   ]
  },
  {
   "cell_type": "code",
   "execution_count": 4,
   "metadata": {},
   "outputs": [
    {
     "name": "stdout",
     "output_type": "stream",
     "text": [
      "train_x shape: (106, 32561)\n",
      "train_y shape: (1, 32561)\n",
      "test_x_shape: (106, 16281)\n"
     ]
    }
   ],
   "source": [
    "train_x_reshape = train_x_ori.T\n",
    "test_x_reshape = test_x_ori.T\n",
    "\n",
    "print(\"train_x shape: \" + str(train_x_reshape.shape))\n",
    "print(\"train_y shape: \" + str(train_y.shape))\n",
    "print(\"test_x_shape: \" + str(test_x_reshape.shape))\n",
    "# print(\"sanity check before reshaping: \\n\" + str(train_x_ori[:5, :])) \n",
    "# print(\"sanity check after reshaping: \\n\" + str(train_x_reshape[:, :5]))"
   ]
  },
  {
   "cell_type": "code",
   "execution_count": 5,
   "metadata": {},
   "outputs": [
    {
     "name": "stdout",
     "output_type": "stream",
     "text": [
      "Compute means and standard deviations ...\n",
      "\n"
     ]
    }
   ],
   "source": [
    "def compute_mean_std(X):\n",
    "   \n",
    "    mu = np.mean(X,keepdims=True,axis=1)\n",
    "    sigma = np.std(X,keepdims=True,axis=1)\n",
    "    \n",
    "    return mu, sigma\n",
    "\n",
    "\n",
    "def normalize_feat(X, mu, sigma):\n",
    "    \n",
    "    B = (X - mu) / sigma\n",
    "    return B\n",
    "\n",
    "print('Compute means and standard deviations ...\\n')\n",
    "mu, sigma = compute_mean_std(train_x_reshape)\n",
    "# print('Mean values are: \\n', mu)\n",
    "# print('Standard deviations are: \\n', sigma)"
   ]
  },
  {
   "cell_type": "code",
   "execution_count": 6,
   "metadata": {},
   "outputs": [],
   "source": [
    "train_x = normalize_feat(train_x_reshape, mu, sigma)\n",
    "\n",
    "test_x = normalize_feat(test_x_reshape, mu, sigma)"
   ]
  },
  {
   "cell_type": "code",
   "execution_count": 7,
   "metadata": {},
   "outputs": [],
   "source": [
    "def initialize_with_zeros(dim):\n",
    "    \n",
    "    w = np.zeros((dim,1))\n",
    "    b = 0\n",
    "    \n",
    "    assert(w.shape == (dim, 1))\n",
    "    assert(isinstance(b, float) or isinstance(b, int))\n",
    "    \n",
    "    return w, b"
   ]
  },
  {
   "cell_type": "code",
   "execution_count": 8,
   "metadata": {},
   "outputs": [],
   "source": [
    "def propagate(w, b, X, Y):\n",
    "   \n",
    "    N = X.shape[1]\n",
    "    \n",
    "    A = sigmoid(np.dot(w.T,X) + b)\n",
    "    cost = np.sum((A-Y)**2) / (2*N)\n",
    "    \n",
    "    dw = np.dot(X,(A-Y).T) / N\n",
    "    db = np.sum(A-Y) /N\n",
    "    \n",
    "    assert(dw.shape == w.shape)\n",
    "    assert(db.dtype == float)\n",
    "    cost = np.squeeze(cost)\n",
    "    assert(cost.shape == ())\n",
    "    \n",
    "    grads = {\"dw\": dw,\n",
    "             \"db\": db}\n",
    "    \n",
    "    return grads, cost"
   ]
  },
  {
   "cell_type": "code",
   "execution_count": 9,
   "metadata": {},
   "outputs": [],
   "source": [
    "def optimize(w, b, X, Y, num_epoch, batch_size, learning_rate):\n",
    "    \n",
    "    costs = []\n",
    "    \n",
    "    for t in range(num_epoch):\n",
    "        \n",
    "        num_iterations = int(X.shape[1]/batch_size)\n",
    "        \n",
    "        train_data = np.vstack((X, Y)).T\n",
    "        np.random.shuffle(train_data)\n",
    "        X, Y = train_data.T[:X.shape[0],:], train_data.T[X.shape[0]:,:]\n",
    "        \n",
    "        for i in range(num_iterations):\n",
    "            \n",
    "            grads, cost = propagate(w, b, X[:,i*batch_size:(i+1)*batch_size], Y[:,i*batch_size:(i+1)*batch_size])\n",
    "\n",
    "            dw = grads[\"dw\"]\n",
    "            db = grads[\"db\"]\n",
    "\n",
    "            w = w - learning_rate*dw\n",
    "            b = b - learning_rate*db\n",
    "\n",
    "            if i == num_iterations-1:\n",
    "                costs.append(cost)\n",
    "        \n",
    "    params = {\"w\": w,\n",
    "              \"b\": b}\n",
    "    \n",
    "    grads = {\"dw\": dw,\n",
    "             \"db\": db}\n",
    "    \n",
    "    return params, grads, costs"
   ]
  },
  {
   "cell_type": "code",
   "execution_count": 10,
   "metadata": {},
   "outputs": [],
   "source": [
    "def predict(w, b, X):\n",
    "   \n",
    "    m = X.shape[1]\n",
    "    Y_prediction = np.zeros((1, m))\n",
    "    w = w.reshape(X.shape[0], 1)\n",
    "    \n",
    "    Y_prediction = sigmoid(np.dot(w.T,X) + b)\n",
    "    \n",
    "    assert(Y_prediction.shape == (1, m))\n",
    "    \n",
    "    return Y_prediction"
   ]
  },
  {
   "cell_type": "code",
   "execution_count": 11,
   "metadata": {},
   "outputs": [],
   "source": [
    "def accuracy(pred_probability, Y_train):\n",
    "    \n",
    "    Y_prediction = pred_probability > 0.5\n",
    "    row = []\n",
    "    for i in Y_prediction.tolist()[0]:\n",
    "        if i:\n",
    "            row.append(1)\n",
    "        else:\n",
    "            row.append(0)\n",
    "\n",
    "    count = 0\n",
    "    for j in range(0, len(row)):\n",
    "        if row[j] == Y_train[0, j]:\n",
    "            count = count + 1\n",
    "    return(count/len(row))"
   ]
  },
  {
   "cell_type": "code",
   "execution_count": 12,
   "metadata": {},
   "outputs": [],
   "source": [
    "def model(X_train, Y_train, num_epoch=10, batch_size=512, learning_rate=0.05):\n",
    "    \n",
    "    \n",
    "    w,b = initialize_with_zeros(X_train.shape[0])\n",
    "\n",
    "    params,grads,costs = optimize(w,b,X_train,Y_train,num_epoch,batch_size,learning_rate)\n",
    "    \n",
    "    w = params['w']\n",
    "    b = params['b']\n",
    "    \n",
    "    Y_prediction_train = predict(w,b,train_x)\n",
    "\n",
    "#   print(\"train cost: {}\".format(costs[-1]))\n",
    "\n",
    "    \n",
    "    d = {\"costs\": costs,\n",
    "         \"Y_prediction_train\" : Y_prediction_train, \n",
    "         \"w\" : w, \n",
    "         \"b\" : b,\n",
    "         \"learning_rate\" : learning_rate,\n",
    "         \"num_epochs\": num_epoch}\n",
    "    \n",
    "    return d"
   ]
  },
  {
   "cell_type": "code",
   "execution_count": 21,
   "metadata": {},
   "outputs": [
    {
     "name": "stdout",
     "output_type": "stream",
     "text": [
      "Accuracy 0.8539971131107768\n",
      "Cost 0.049770242400301354\n",
      "Epoch 100\n",
      "Batch 128\n",
      "Rate 0.01\n"
     ]
    }
   ],
   "source": [
    "best_accuracy = 0\n",
    "best_costs = []\n",
    "best_w, best_b = initialize_with_zeros(train_x.shape[0])\n",
    "best_e = 0\n",
    "best_s = 0\n",
    "best_l = 0\n",
    "\n",
    "for e in [50, 100, 150, 200]:  \n",
    "    for s in [64, 128, 256, 512]:\n",
    "        for l in [0.5, 0.1, 0.05, 0.01]:\n",
    "            d = model(train_x, train_y, num_epoch=e, batch_size=s, learning_rate=l)\n",
    "            temp_accuracy = accuracy(d[\"Y_prediction_train\"], train_y)\n",
    "\n",
    "            if temp_accuracy > best_accuracy: \n",
    "                best_accuracy = temp_accuracy\n",
    "                best_costs = d[\"costs\"]\n",
    "                best_w = d['w']\n",
    "                best_b = d['b']\n",
    "                best_e = e\n",
    "                best_s = s\n",
    "                best_l = l\n",
    "            \n",
    "print(\"Accuracy\", best_accuracy)\n",
    "print(\"Cost\", best_costs[-1])\n",
    "print(\"Epoch\", best_e)\n",
    "print(\"Batch\", best_s)\n",
    "print(\"Rate\", best_l)"
   ]
  },
  {
   "cell_type": "code",
   "execution_count": 22,
   "metadata": {},
   "outputs": [],
   "source": [
    "save_model(d['w'],d['b'])\n",
    "predict_and_save_result(test_x)"
   ]
  },
  {
   "cell_type": "code",
   "execution_count": 23,
   "metadata": {},
   "outputs": [
    {
     "data": {
      "image/png": "[encoded data removed]",
      "text/plain": [
       "<Figure size 432x288 with 1 Axes>"
      ]
     },
     "metadata": {
      "needs_background": "light"
     },
     "output_type": "display_data"
    }
   ],
   "source": [
    "costs = np.squeeze(d['costs'])\n",
    "plt.plot(costs)\n",
    "plt.ylabel('cost')\n",
    "plt.xlabel('epochs')\n",
    "plt.title(\"Learning rate =\" + str(d[\"learning_rate\"]))\n",
    "plt.show()"
   ]
  },
  {
   "cell_type": "code",
   "execution_count": null,
   "metadata": {},
   "outputs": [],
   "source": []
  }
 ],
 "metadata": {
  "kernelspec": {
   "display_name": "Python 3",
   "language": "python",
   "name": "python3"
  },
  "language_info": {
   "codemirror_mode": {
    "name": "ipython",
    "version": 3
   },
   "file_extension": ".py",
   "mimetype": "text/x-python",
   "name": "python",
   "nbconvert_exporter": "python",
   "pygments_lexer": "ipython3",
   "version": "3.7.4"
  }
 },
 "nbformat": 4,
 "nbformat_minor": 4
}
